{
 "cells": [
  {
   "cell_type": "markdown",
   "id": "298b7608-4b6b-4298-bbbb-3bbc8af00829",
   "metadata": {},
   "source": [
    "## Demonstration of Name-Based Access Control and Group Keys\n",
    "\n",
    "Uses Python scripts on FABRIC nodes to exchange files and perform key exchanges based upon NDN's NAC designs.\n",
    "\n",
    "While it does not run on an active NDN-DPDK node like intended in FABRIC_NAC, it demonstrates the key exchange in accordance with the separation of producer and data owner nodes.\n",
    "\n",
    "See attached report for image sources.\n",
    "\n",
    "NOTE: if you run parts of this notebook (and it is working) and come back to your slice after your JuPyter server restarts, make sure you run any blocks that start with #REQUIRED again before any changes."
   ]
  },
  {
   "cell_type": "markdown",
   "id": "2714d0a3-c81b-4c7b-b96a-9d46eec7d05e",
   "metadata": {},
   "source": [
    "### Deallocate Slice\n",
    "\n",
    "This content is placed at the top to avoid mistakes from people running through the notebook using Shift-Enter.\n",
    "Note that `fablib` is not imported unless the first code block after this section is run. "
   ]
  },
  {
   "cell_type": "code",
   "execution_count": null,
   "id": "4e004d72-d100-443d-a104-9927e98ba750",
   "metadata": {},
   "outputs": [],
   "source": [
    "slice_name=\"NACgroupKey-\" + fablib.get_bastion_username()\n",
    "slice = fablib.get_slice(name=slice_name)\n",
    "fablib.delete_slice(slice_name)"
   ]
  },
  {
   "cell_type": "markdown",
   "id": "8700d5cb-1040-4fa4-b736-ec7c595b17e5",
   "metadata": {},
   "source": [
    "### Initial Setup (from fabric-ndn)\n",
    "\n",
    "The bastion key and slice key must be in your `fabric_config/` JuPyter directory in order to properly operate the FabLib library on FABRIC.\n",
    "\n",
    "Try to avoid skipping steps to prevent missing variables/imports."
   ]
  },
  {
   "cell_type": "code",
   "execution_count": null,
   "id": "bcc1cbc5-3068-4463-9fe0-aac4b307d82f",
   "metadata": {},
   "outputs": [],
   "source": [
    "#REQUIRED\n",
    "\n",
    "#Note: this format is used to avoid hardcoding user data either in the repo or in these code blocks.\n",
    "\n",
    "from fabrictestbed_extensions.fablib.fablib import FablibManager as fablib_manager\n",
    "fablib = fablib_manager()\n",
    "conf = fablib.show_config()"
   ]
  },
  {
   "cell_type": "markdown",
   "id": "8dd54570-165a-410f-a646-0f7db0d7a9fc",
   "metadata": {},
   "source": [
    "### Topology Configuration (run to load variables)"
   ]
  },
  {
   "cell_type": "code",
   "execution_count": null,
   "id": "eca60b15-d368-4c5b-a8c6-9ee0bf9b998e",
   "metadata": {},
   "outputs": [],
   "source": [
    "#at current the topology is intended to allocate on a single site\n",
    "\n",
    "#configuring nodes for topology in *_conf variables\n",
    "node_conf = [\n",
    "    {\"name\": \"dataowner\", \"cores\": 2, \"ram\": 8, \"disk\": 20, \"image\": 'default_ubuntu_20', 'packages': ['apache2', 'python3', 'python3-pip', 'net-tools', 'iperf3', 'moreutils', 'pwntools']},\n",
    "    {\"name\": \"producer\",  \"cores\": 2, \"ram\": 8, \"disk\": 20, \"image\": 'default_ubuntu_20', 'packages': ['apache2', 'python3', 'python3-pip', 'net-tools', 'iperf3', 'moreutils', 'pwntools']},\n",
    "    {\"name\": \"consumer\",  \"cores\": 2, \"ram\": 8, \"disk\": 20, \"image\": 'default_ubuntu_20', 'packages': ['apache2', 'python3', 'python3-pip', 'net-tools', 'iperf3', 'moreutils', 'pwntools']},\n",
    "    #{\"name\": \"attacker\",  \"cores\": 2, \"ram\": 8, \"disk\": 20, \"image\": 'default_ubuntu_20', 'packages': ['apache2', 'python3', 'python3-pip', 'net-tools', 'iperf3', 'moreutils', 'pwntools']},\n",
    "    {\"name\": \"router1\",   \"cores\": 2, \"ram\": 8, \"disk\": 20, \"image\": 'default_ubuntu_20', 'packages': ['apache2', 'python3', 'python3-pip', 'net-tools', 'iperf3', 'moreutils', 'pwntools']}\n",
    "]\n",
    "\n",
    "net_conf = [\n",
    "    {\"name\": \"net_source\", \"subnet\": \"10.10.1.0/24\", \"nodes\": [\n",
    "        {\"name\": \"dataowner\", \"addr\": \"10.10.1.30\"},\n",
    "        {\"name\": \"producer\",  \"addr\": \"10.10.1.40\"},\n",
    "        {\"name\": \"router1\",   \"addr\": \"10.10.1.10\"}\n",
    "    ]},\n",
    "    {\"name\": \"net_user\", \"subnet\": \"10.10.2.0/24\", \"nodes\": [\n",
    "        {\"name\": \"consumer\",  \"addr\": \"10.10.2.50\"},\n",
    "        #{\"name\": \"attacker\",  \"addr\": \"10.10.2.60\"},\n",
    "        {\"name\": \"router1\",   \"addr\": \"10.10.2.10\"}\n",
    "    ]}\n",
    "]\n",
    "\n",
    "route_conf = [\n",
    "    {\"addr\": \"10.10.1.0/24\", \"gw\": \"10.10.1.10\", \"nodes\": [\"dataowner\", \"producer\"]},\n",
    "    {\"addr\": \"10.10.2.0/24\", \"gw\": \"10.10.2.10\", \"nodes\": [\"consumer\"]} #once implemented, potentially include    , \"attacker\"\n",
    "]\n",
    "\n",
    "#calculate config values for use in determining a valid site for allocation\n",
    "exp_conf = {'cores': sum([ n['cores'] for n in node_conf]), 'nic': sum([len(n['nodes']) for n in net_conf]), 'ram': sum([ n['ram'] for n in node_conf]) }\n",
    "\n",
    "print(\"Configuration setup loaded.\")"
   ]
  },
  {
   "cell_type": "markdown",
   "id": "88bc84cf-e077-45aa-b664-b86dd4b13b85",
   "metadata": {},
   "source": [
    "### Slice existence check and allocation"
   ]
  },
  {
   "cell_type": "code",
   "execution_count": null,
   "id": "d5192493-725d-4d6f-9b81-a8f417cce9e0",
   "metadata": {},
   "outputs": [],
   "source": [
    "#REQUIRED\n",
    "slice_name=\"NACgroupKey-\" + fablib.get_bastion_username()\n",
    "try:\n",
    "    slice = fablib.get_slice(name=slice_name)\n",
    "    print(\"You already have a slice by this name!\")\n",
    "    print(\"If you previously reserved resources, skip to the 'log in to resources' section.\")\n",
    "except:\n",
    "    print(\"You don't have a slice named %s yet.\" % slice_name)\n",
    "    print(\"Continue to the next step to make one.\")\n",
    "    slice = fablib.new_slice(name=slice_name)"
   ]
  },
  {
   "cell_type": "code",
   "execution_count": null,
   "id": "9bee426d-44b6-4ee1-86c9-9acdb743d22b",
   "metadata": {},
   "outputs": [],
   "source": [
    "## Run if Slice is not allocated\n",
    "\n",
    "while True:\n",
    "    site_name = fablib.get_random_site()\n",
    "    #check if randomly chosen site has the resources to properly allocate\n",
    "    if (    (fablib.resources.get_core_available(site_name) > 1.2*exp_conf['cores'])\n",
    "        and (fablib.resources.get_ram_available(site_name) > 1.2*exp_conf['ram'])\n",
    "        #and (fablib.resources.get_component_available(site_name, 'SharedNIC-ConnectX-6') > 1.2**exp_conf['nic'])\n",
    "       ):\n",
    "        break\n",
    "\n",
    "for n in node_conf:\n",
    "    slice.add_node(name=n['name'], site=site_name, \n",
    "                   cores=n['cores'], \n",
    "                   ram=n['ram'], \n",
    "                   disk=n['disk'], \n",
    "                   image=n['image'])\n",
    "for n in net_conf:\n",
    "    ifaces = [slice.get_node(node[\"name\"]).add_component(model=\"NIC_Basic\", \n",
    "                                                 name=n[\"name\"]).get_interfaces()[0] for node in n['nodes'] ]\n",
    "    slice.add_l2network(name=n[\"name\"], type='L2Bridge', interfaces=ifaces)\n",
    "\n",
    "fablib.show_site(site_name)"
   ]
  },
  {
   "cell_type": "code",
   "execution_count": null,
   "id": "62bdc64f-866a-4f9c-b2bb-d3f255a755b8",
   "metadata": {},
   "outputs": [],
   "source": [
    "#wait for visible output from previous\n",
    "#it may be helpful to spot-check the resources availble on the other node\n",
    "slice.submit()"
   ]
  },
  {
   "cell_type": "code",
   "execution_count": null,
   "id": "2039f5ec-d6c7-4126-bf46-81437a0a6d94",
   "metadata": {},
   "outputs": [],
   "source": [
    "#REQUIRED\n",
    "\n",
    "#wait for allocation success\n",
    "slice.get_state()\n",
    "slice.wait_ssh(progress=True)\n",
    "#NOTE: examine output of this and the above block carefully to ensure the slice has been properly built"
   ]
  },
  {
   "cell_type": "code",
   "execution_count": null,
   "id": "e1f4df7f-6e9b-44e7-a008-8d5d2af0dd66",
   "metadata": {},
   "outputs": [],
   "source": [
    "#Display access to nodes through ssh\n",
    "import pandas as pd\n",
    "pd.set_option('display.max_colwidth', None)\n",
    "slice_info = [{'Name': n.get_name(), 'SSH command': n.get_ssh_command()} for n in slice.get_nodes()]\n",
    "pd.DataFrame(slice_info).set_index('Name')"
   ]
  },
  {
   "cell_type": "markdown",
   "id": "2ac3b099-14b6-4ef1-9760-9f92f8fae2ff",
   "metadata": {},
   "source": [
    "### Extend Slice Lifetime by 3 Days"
   ]
  },
  {
   "cell_type": "code",
   "execution_count": null,
   "id": "71ccfe5f-2ef9-4ca6-a120-6308163a0833",
   "metadata": {},
   "outputs": [],
   "source": [
    "from datetime import datetime\n",
    "from datetime import timezone\n",
    "from datetime import timedelta\n",
    "\n",
    "# Set end date to 3 days from now\n",
    "end_date = (datetime.now(timezone.utc) + timedelta(days=4)).strftime(\"%Y-%m-%d %H:%M:%S %z\")\n",
    "slice.renew(end_date)"
   ]
  },
  {
   "cell_type": "markdown",
   "id": "16d23bcd-af79-489a-9c78-b0b847fddfad",
   "metadata": {},
   "source": [
    "### Configure resources within nodes\n",
    "\n",
    "#### Step 1: Update Nodes, Install Useful Packages, Load Scripts\n",
    "\n",
    "The node update and install thread will run in background; however, if it is not completed, some later parts may encounter issues."
   ]
  },
  {
   "cell_type": "code",
   "execution_count": null,
   "id": "dcfca934-63e2-47b1-9fd2-caf4911b973e",
   "metadata": {},
   "outputs": [],
   "source": [
    "#GENERAL CONFIG\n",
    "\n",
    "for n in node_conf:\n",
    "    if len(n['packages']):\n",
    "        node = slice.get_node(n['name'])\n",
    "        pkg = \" \".join(n['packages'])\n",
    "        node.execute_thread(\"sudo apt update; sudo apt -y install %s\" % pkg)\n",
    "\n",
    "from ipaddress import ip_address, IPv4Address, IPv4Network\n",
    "for net in net_conf:\n",
    "    for n in net['nodes']:\n",
    "        if_name = n['name'] + '-' + net['name'] + '-p1'\n",
    "        iface = slice.get_interface(if_name)\n",
    "        iface.ip_link_up()\n",
    "        if n['addr']:\n",
    "            iface.ip_addr_add(addr=n['addr'], subnet=IPv4Network(net['subnet']))\n",
    "        else:\n",
    "            iface.get_node().execute(\"sudo ip addr flush dev %s\"  % iface.get_device_name())\n",
    "\n",
    "hosts_txt = [ \"%s\\t%s\" % ( n['addr'], n['name'] ) for net in net_conf  for n in net['nodes'] if type(n) is dict and n['addr']]\n",
    "\n",
    "for n in slice.get_nodes():\n",
    "    for h in hosts_txt:\n",
    "        n.execute(\"echo %s | sudo tee -a /etc/hosts\" % h)\n",
    "\n",
    "for n in slice.get_nodes():\n",
    "    n.execute(\"sudo sysctl -w net.ipv4.ip_forward=1\")\n",
    "\n",
    "for rt in route_conf:\n",
    "    for n in rt['nodes']:\n",
    "        slice.get_node(name=n).ip_route_add(subnet=IPv4Network(rt['addr']), gateway=rt['gw'])"
   ]
  },
  {
   "cell_type": "code",
   "execution_count": null,
   "id": "77de5477-4a13-4dd8-8c2a-4444f0aa16e3",
   "metadata": {},
   "outputs": [],
   "source": [
    "#Python library installations\n",
    "\n",
    "#Once the above is done, use this to check complete Python 3 library installations\n",
    "#It will produce a lot of text; if running pip does not say cannot find pip, it is working\n",
    "for node in slice.get_nodes():\n",
    "    #node.execute_thread(\"sudo apt install -y python3-pip; pip install cryptography; pip install rsa\")\n",
    "    node.execute(\"sudo apt install -y python3-pip; pip install cryptography; pip install rsa\")"
   ]
  },
  {
   "cell_type": "code",
   "execution_count": null,
   "id": "cf674e53-853a-47dd-96fd-01458512e506",
   "metadata": {},
   "outputs": [],
   "source": [
    "#NODE SETUP\n",
    "#Rerun this after any changes to scripts or config to ensure all pieces are in place for testing.\n",
    "#Ensure the previous installs are done.\n",
    "\n",
    "print(\"Loading scripts and content to nodes.\")\n",
    "\n",
    "#DATA OWNER\n",
    "node = slice.get_node(\"dataowner\")\n",
    "try:\n",
    "    result = node.upload_file('demoScripts/datowner.py','datowner.py')\n",
    "    result = node.upload_file('demoScripts/datowner2.py','datowner2.py')\n",
    "    print(\"Script loaded to data owner.\")\n",
    "    result = node.execute_thread('mkdir keySegments')\n",
    "except Exception as e:\n",
    "    print(\"Failed on node_%s for the following reason:\"%(node.get_name()))\n",
    "    print(e.message)\n",
    "    \n",
    "#PRODUCER\n",
    "node = slice.get_node(\"producer\")\n",
    "try:\n",
    "    result = node.upload_file('demoScripts/producer.py','producer.py')\n",
    "    print(\"Script loaded to producer.\")\n",
    "    result = node.upload_file('contentExample/content.txt', 'content.txt')\n",
    "    print(\"Content stored on producer.\")\n",
    "except Exception as e:\n",
    "    print(\"Failed on node_%s for the following reason:\"%(node.get_name()))\n",
    "    print(e.message)\n",
    "\n",
    "#NDN ROUTER\n",
    "#node = slice.get_node(\"router1\")\n",
    "#try:\n",
    "#    result = node.upload_file('demoScripts/ndnroute.py','ndnroute.py')\n",
    "#    print(\"Script loaded to router.\")\n",
    "#except Exception as e:\n",
    "#    print(\"Failed on node_%s for the following reason:\"%(node.get_name()))\n",
    "#    print(e.message)\n",
    "\n",
    "#CONSUMER\n",
    "node = slice.get_node(\"consumer\")\n",
    "try:\n",
    "    result = node.upload_file('demoScripts/consumer.py','consumer.py')\n",
    "    result = node.upload_file('demoScripts/consumer2.py','consumer2.py')\n",
    "    print(\"Script loaded to consumer.\")\n",
    "except Exception as e:\n",
    "    print(\"Failed on node_%s for the following reason:\"%(node.get_name()))\n",
    "    print(e.message)\n",
    "\n",
    "#ENDING\n",
    "print(\"Procedure over.\")"
   ]
  },
  {
   "cell_type": "markdown",
   "id": "2f892618-dacc-4234-acd9-1093e5ebe9b8",
   "metadata": {},
   "source": [
    "#### Draw the network topology\n",
    "\n",
    "The following cell will draw the network topology, for your reference. The interface name and addresses of each experiment interface will be shown on the drawing."
   ]
  },
  {
   "cell_type": "code",
   "execution_count": null,
   "id": "d1d0b626-dd1b-4d06-9083-238cc512b2c3",
   "metadata": {},
   "outputs": [],
   "source": [
    "#Draw topology for visibility\n",
    "l2_nets = [(n.get_name(), {'color': 'lavender'}) for n in slice.get_l2networks() ]\n",
    "l3_nets = [(n.get_name(), {'color': 'pink'}) for n in slice.get_l3networks() ]\n",
    "hosts   =   [(n.get_name(), {'color': 'lightblue'}) for n in slice.get_nodes()]\n",
    "nodes = l2_nets + l3_nets + hosts\n",
    "ifaces = [iface.toDict() for iface in slice.get_interfaces()]\n",
    "edges = [(iface['network'], iface['node'], \n",
    "          {'label': iface['physical_dev'] + '\\n' + iface['ip_addr'] + '\\n' + iface['mac']}) for iface in ifaces]\n",
    "\n",
    "import networkx as nx\n",
    "import matplotlib.pyplot as plt\n",
    "plt.figure(figsize=(len(nodes) + 5, len(nodes) + 1))\n",
    "G = nx.Graph()\n",
    "G.add_nodes_from(nodes)\n",
    "G.add_edges_from(edges)\n",
    "pos = nx.spring_layout(G)\n",
    "nx.draw(G, pos, node_shape='s',  \n",
    "        node_color=[n[1]['color'] for n in nodes], \n",
    "        node_size=[len(n[0])*400 for n in nodes],  \n",
    "        with_labels=True);\n",
    "nx.draw_networkx_edge_labels(G,pos,\n",
    "                             edge_labels=nx.get_edge_attributes(G,'label'),\n",
    "                             font_color='gray', font_size=8, rotate=False);"
   ]
  },
  {
   "cell_type": "markdown",
   "id": "e4db4505-8753-47a3-ae2b-98ac305a1e99",
   "metadata": {},
   "source": [
    "#### Step 2: Run the following blocks to perform demo\n",
    "\n",
    "Note: the demoCache folder can be checked for router contents between blocks.\n",
    "In some cases, there shouldn't be anything.\n",
    "\n",
    "(The first code block is a reset that will not cause problems even if the demo blocks haven't been used yet.)"
   ]
  },
  {
   "cell_type": "code",
   "execution_count": null,
   "id": "c8f090ff-e9dd-46d1-a0cc-0c06d273f845",
   "metadata": {},
   "outputs": [],
   "source": [
    "#RESET BLOCK\n",
    "\n",
    "!rm -f demoCache/contentEncrypted\n",
    "!rm -f demoCache/encryptedContentKey\n",
    "!rm -f decryptedContent.txt\n",
    "node = slice.get_node(\"dataowner\")\n",
    "node.execute(\"rm -f contentEncrypted; rm -f encryptedContentKey\")\n",
    "node = slice.get_node(\"consumer\")\n",
    "node.execute(\"rm -rf keySegments/; rm -f consumerPrivateKey; rm -f consumerPublicKey\")\n",
    "node = slice.get_node(\"producer\")\n",
    "node.execute(\"rm -f contentEncrypted; rm -f encryptedContentKey; rm -f groupEncKey\")"
   ]
  },
  {
   "cell_type": "code",
   "execution_count": null,
   "id": "528e197c-db11-4836-b915-7a47257488df",
   "metadata": {},
   "outputs": [],
   "source": [
    "#DATA OWNER generates Group Key Pair\n",
    "node = slice.get_node(\"dataowner\")\n",
    "result = node.execute(\"python3 datowner.py; ls -l\")"
   ]
  },
  {
   "cell_type": "code",
   "execution_count": null,
   "id": "25848fb4-179e-480b-911d-e067e7936f56",
   "metadata": {},
   "outputs": [],
   "source": [
    "#PRODUCER retrieves Group Encryption Key\n",
    "\n",
    "#We'll skip the request from Producer given the lack of interactibility using sockets and ports\n",
    "node = slice.get_node(\"dataowner\")\n",
    "node.download_file(\"demoCache/groupEncKey\",\"groupEncKey\")\n",
    "#Forward to Producer\n",
    "node = slice.get_node(\"producer\")\n",
    "node.upload_file(\"demoCache/groupEncKey\",\"groupEncKey\")\n",
    "#Remove from router cache\n",
    "!rm demoCache/groupEncKey\n",
    "\n",
    "#NOTE how router cache (demoCache directory) should not retain this interaction. In a real-world scenario, this would require an additional asymmetric exchange"
   ]
  },
  {
   "cell_type": "code",
   "execution_count": null,
   "id": "8c407c5e-c8fe-4278-8d32-76e53d4f0a40",
   "metadata": {},
   "outputs": [],
   "source": [
    "#Producer performs Content Encryption and Content Key Encryption\n",
    "node = slice.get_node(\"producer\")\n",
    "result = node.execute(\"python3 producer.py; ls -l\")"
   ]
  },
  {
   "cell_type": "code",
   "execution_count": null,
   "id": "d92d44db-5144-488c-8303-b6a1d37f39da",
   "metadata": {},
   "outputs": [],
   "source": [
    "#Producer provides content and content key (encrypted) by cacheing in Router (simulated using demoCache/)\n",
    "node = slice.get_node(\"producer\")\n",
    "node.download_file(\"demoCache/encryptedContentKey\",\"encryptedContentKey\")\n",
    "node.download_file(\"demoCache/contentEncrypted\",\"contentEncrypted\")"
   ]
  },
  {
   "cell_type": "code",
   "execution_count": null,
   "id": "4b443f0c-9e97-4429-ba7a-4b7a10aa5836",
   "metadata": {},
   "outputs": [],
   "source": [
    "#Consumer advertises own public key\n",
    "node = slice.get_node(\"consumer\")\n",
    "result = node.execute(\"python3 consumer2.py; ls -l\")\n",
    "\n",
    "#We skip simulation of public key request\n",
    "\n",
    "#Data Owner retrieves public key\n",
    "node.download_file(\"demoCache/consumerPublicKey\",\"consumerPublicKey\")\n",
    "node = slice.get_node(\"dataowner\")\n",
    "node.upload_file(\"demoCache/consumerPublicKey\",\"consumerPublicKey\")\n",
    "!rm demoCache/consumerPublicKey"
   ]
  },
  {
   "cell_type": "code",
   "execution_count": null,
   "id": "a12c6058-5d66-42d5-8eb1-5671563145b9",
   "metadata": {},
   "outputs": [],
   "source": [
    "#Data Owner encrypts Group decryption key using consumer public key\n",
    "node = slice.get_node(\"dataowner\")\n",
    "result = node.execute(\"python3 datowner2.py; ls -l keySegments\")\n",
    "\n",
    "#Data Owner sends encrypted Group decryption key to consumer (simulated by transfer)\n",
    "node.download_directory(\"demoCache\", \"keySegments\")\n",
    "node = slice.get_node(\"consumer\")\n",
    "node.upload_directory(\"demoCache/keySegments\", \"keySegments\")\n",
    "!rm -rf demoCache/keySegments\n",
    "result = node.execute('mv keySegments/keySegments/* keySegments; rm -rf keySegments/keySegments')"
   ]
  },
  {
   "cell_type": "code",
   "execution_count": null,
   "id": "269fd46b-cd29-47d9-b02d-a80f7920e439",
   "metadata": {},
   "outputs": [],
   "source": [
    "#Consumer retrieves encrypted content and content key\n",
    "node = slice.get_node(\"consumer\")\n",
    "node.upload_file(\"demoCache/contentEncrypted\",\"contentEncrypted\")\n",
    "node.upload_file(\"demoCache/encryptedContentKey\",\"encryptedContentKey\")\n",
    "\n",
    "#Decrypt Group decryption key using consumer private key (reconstitute from segments)\n",
    "result = node.execute(\"python3 consumer.py; ls -l\")\n",
    "node.download_file(\"decryptedContent.txt\", \"decryptedContent.txt\")"
   ]
  },
  {
   "cell_type": "code",
   "execution_count": null,
   "id": "dce3ddaa-04f2-419b-a448-b2ee1c89e345",
   "metadata": {},
   "outputs": [],
   "source": [
    "#Display final decryption output in JuPyter server after retrieving from consumer node\n",
    "\n",
    "!cat decryptedContent.txt"
   ]
  },
  {
   "cell_type": "markdown",
   "id": "ccfce2f5-ba7d-4c45-baee-6d2ce223d766",
   "metadata": {},
   "source": [
    "#### And that's the demo!\n",
    "\n",
    "If you saw the full decrypted message displayed using decryptedContent.txt, you can compare it to `contentExample/content.txt` to see it worked.\n",
    "\n",
    "Return to the start of this notebook to deallocate slice."
   ]
  }
 ],
 "metadata": {
  "kernelspec": {
   "display_name": "Python 3 (ipykernel)",
   "language": "python",
   "name": "python3"
  },
  "language_info": {
   "codemirror_mode": {
    "name": "ipython",
    "version": 3
   },
   "file_extension": ".py",
   "mimetype": "text/x-python",
   "name": "python",
   "nbconvert_exporter": "python",
   "pygments_lexer": "ipython3",
   "version": "3.11.8"
  }
 },
 "nbformat": 4,
 "nbformat_minor": 5
}
