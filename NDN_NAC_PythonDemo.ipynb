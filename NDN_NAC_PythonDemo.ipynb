{
 "cells": [
  {
   "cell_type": "markdown",
   "id": "298b7608-4b6b-4298-bbbb-3bbc8af00829",
   "metadata": {},
   "source": [
    "## Demonstration of Name-Based Access Control and Group Keys\n",
    "\n",
    "Uses Python scripts on FABRIC nodes to exchange files and perform key exchanges based upon NDN's NAC designs.\n",
    "\n",
    "While it does not run on an active NDN-DPDK node like intended in FABRIC_NAC, it demonstrates the key exchange in accordance with the separation of producer and data owner nodes.\n",
    "\n",
    "See attached report for image sources."
   ]
  },
  {
   "cell_type": "markdown",
   "id": "2714d0a3-c81b-4c7b-b96a-9d46eec7d05e",
   "metadata": {},
   "source": [
    "### Deallocate Slice\n",
    "\n",
    "This content is placed at the top to avoid mistakes from people running through the notebook using Shift-Enter.\n",
    "Note that `fablib` is not imported unless the first code block after this section is run. "
   ]
  },
  {
   "cell_type": "code",
   "execution_count": null,
   "id": "4e004d72-d100-443d-a104-9927e98ba750",
   "metadata": {},
   "outputs": [],
   "source": [
    "slice_name=\"NACgroupKey-\" + fablib.get_bastion_username()\n",
    "slice = fablib.get_slice(name=slice_name)\n",
    "fablib.delete_slice(slice_name)"
   ]
  },
  {
   "cell_type": "markdown",
   "id": "8700d5cb-1040-4fa4-b736-ec7c595b17e5",
   "metadata": {},
   "source": [
    "### Initial Setup (from fabric-ndn)\n",
    "\n",
    "The bastion key and slice key must be in your `fabric_config/` JuPyter directory in order to properly operate the FabLib library on FABRIC.\n",
    "\n",
    "Try to avoid skipping steps to prevent missing variables/imports."
   ]
  },
  {
   "cell_type": "code",
   "execution_count": null,
   "id": "bcc1cbc5-3068-4463-9fe0-aac4b307d82f",
   "metadata": {},
   "outputs": [],
   "source": [
    "from fabrictestbed_extensions.fablib.fablib import FablibManager as fablib_manager\n",
    "fablib = fablib_manager()\n",
    "conf = fablib.show_config()"
   ]
  },
  {
   "cell_type": "markdown",
   "id": "8dd54570-165a-410f-a646-0f7db0d7a9fc",
   "metadata": {},
   "source": [
    "### Topology Configuration (run to load variables)"
   ]
  },
  {
   "cell_type": "code",
   "execution_count": null,
   "id": "eca60b15-d368-4c5b-a8c6-9ee0bf9b998e",
   "metadata": {},
   "outputs": [],
   "source": [
    "#at current the topology is intended to allocate on a single site\n",
    "\n",
    "#configuring nodes for topology in *_conf variables\n",
    "node_conf = [\n",
    "    {\"name\": \"dataowner\", \"cores\": 2, \"ram\": 8, \"disk\": 20, \"image\": 'default_ubuntu_20', 'packages': ['net-tools', 'iperf3', 'moreutils', 'pwntools']},\n",
    "    {\"name\": \"producer\",  \"cores\": 2, \"ram\": 8, \"disk\": 20, \"image\": 'default_ubuntu_20', 'packages': ['net-tools', 'iperf3', 'moreutils', 'pwntools']},\n",
    "    {\"name\": \"consumer\",  \"cores\": 2, \"ram\": 8, \"disk\": 20, \"image\": 'default_ubuntu_20', 'packages': ['net-tools', 'iperf3', 'moreutils', 'pwntools']},\n",
    "    #{\"name\": \"attacker\",  \"cores\": 2, \"ram\": 8, \"disk\": 20, \"image\": 'default_ubuntu_20', 'packages': ['net-tools', 'iperf3', 'moreutils', 'pwntools']},\n",
    "    {\"name\": \"router1\",   \"cores\": 2, \"ram\": 8, \"disk\": 20, \"image\": 'default_ubuntu_20', 'packages': ['net-tools', 'iperf3', 'moreutils', 'pwntools']}\n",
    "]\n",
    "\n",
    "net_conf = [\n",
    "    {\"name\": \"net_source\", \"subnet\": \"10.10.1.0/24\", \"nodes\": [\n",
    "        {\"name\": \"dataowner\", \"addr\": \"10.10.1.30\"},\n",
    "        {\"name\": \"producer\", \"addr\": \"10.10.1.40\"},\n",
    "        {\"name\": \"router1\",  \"addr\": \"10.10.1.10\"}\n",
    "    ]},\n",
    "    {\"name\": \"net_user\", \"subnet\": \"10.10.2.0/24\", \"nodes\": [\n",
    "        {\"name\": \"consumer\",  \"addr\": \"10.10.2.50\"},\n",
    "        #{\"name\": \"attacker\",  \"addr\": \"10.10.2.60\"},\n",
    "        {\"name\": \"router1\",   \"addr\": \"10.10.2.10\"}\n",
    "    ]}\n",
    "]\n",
    "\n",
    "route_conf = [\n",
    "    {\"addr\": \"10.10.1.0/24\", \"gw\": \"10.10.1.10\", \"nodes\": [\"dataowner\", \"producer\"]},\n",
    "    {\"addr\": \"10.10.2.0/24\", \"gw\": \"10.10.2.10\", \"nodes\": [\"consumer\"]} #once implemented, potentially include    , \"attacker\"\n",
    "]\n",
    "\n",
    "#calculate config values for use in determining a valid site for allocation\n",
    "exp_conf = {'cores': sum([ n['cores'] for n in node_conf]), 'nic': sum([len(n['nodes']) for n in net_conf]), 'ram': sum([ n['ram'] for n in node_conf]) }\n",
    "\n",
    "print(\"Configuration setup loaded.\")"
   ]
  },
  {
   "cell_type": "markdown",
   "id": "88bc84cf-e077-45aa-b664-b86dd4b13b85",
   "metadata": {},
   "source": [
    "### Slice existence check and allocation"
   ]
  },
  {
   "cell_type": "code",
   "execution_count": null,
   "id": "d5192493-725d-4d6f-9b81-a8f417cce9e0",
   "metadata": {},
   "outputs": [],
   "source": [
    "slice_name=\"NACgroupKey-\" + fablib.get_bastion_username()\n",
    "try:\n",
    "    slice = fablib.get_slice(name=slice_name)\n",
    "    print(\"You already have a slice by this name!\")\n",
    "    print(\"If you previously reserved resources, skip to the 'log in to resources' section.\")\n",
    "except:\n",
    "    print(\"You don't have a slice named %s yet.\" % slice_name)\n",
    "    print(\"Continue to the next step to make one.\")\n",
    "    slice = fablib.new_slice(name=slice_name)"
   ]
  },
  {
   "cell_type": "code",
   "execution_count": null,
   "id": "9bee426d-44b6-4ee1-86c9-9acdb743d22b",
   "metadata": {},
   "outputs": [],
   "source": [
    "## Run if Slice is not allocated\n",
    "\n",
    "while True:\n",
    "    site_name = fablib.get_random_site()\n",
    "    #check if randomly chosen site has the resources to properly allocate\n",
    "    if ( (fablib.resources.get_core_available(site_name) > 1.2*exp_conf['cores']) and\n",
    "        (fablib.resources.get_ram_available(site_name) > 1.2*exp_conf['ram']) and\n",
    "        (fablib.resources.get_component_available(site_name, 'SharedNIC-ConnectX-6') > 1.2**exp_conf['nic']) ):\n",
    "        break\n",
    "\n",
    "for n in node_conf:\n",
    "    slice.add_node(name=n['name'], site=site_name, \n",
    "                   cores=n['cores'], \n",
    "                   ram=n['ram'], \n",
    "                   disk=n['disk'], \n",
    "                   image=n['image'])\n",
    "for n in net_conf:\n",
    "    ifaces = [slice.get_node(node[\"name\"]).add_component(model=\"NIC_Basic\", \n",
    "                                                 name=n[\"name\"]).get_interfaces()[0] for node in n['nodes'] ]\n",
    "    slice.add_l2network(name=n[\"name\"], type='L2Bridge', interfaces=ifaces)\n",
    "\n",
    "fablib.show_site(site_name)"
   ]
  },
  {
   "cell_type": "code",
   "execution_count": null,
   "id": "62bdc64f-866a-4f9c-b2bb-d3f255a755b8",
   "metadata": {},
   "outputs": [],
   "source": [
    "#wait for visible output from previous\n",
    "#it may be helpful to spot-check the resources availble on the other node\n",
    "slice.submit()\n",
    "\n",
    "#wait for allocation success\n",
    "slice.get_state()\n",
    "slice.wait_ssh(progress=True)\n",
    "\n",
    "#NOTE: examine output of this and the above block carefully to ensure the slice has been properly built "
   ]
  },
  {
   "cell_type": "markdown",
   "id": "16d23bcd-af79-489a-9c78-b0b847fddfad",
   "metadata": {},
   "source": [
    "### Configure resources within nodes\n",
    "\n",
    "Step 1: Update Nodes, Install Useful Packages, Load Scripts"
   ]
  },
  {
   "cell_type": "code",
   "execution_count": null,
   "id": "dcfca934-63e2-47b1-9fd2-caf4911b973e",
   "metadata": {},
   "outputs": [],
   "source": [
    "for n in node_conf:\n",
    "    if len(n['packages']):\n",
    "        node = slice.get_node(n['name'])\n",
    "        pkg = \" \".join(n['packages'])\n",
    "        node.execute_thread(\"sudo apt update; sudo apt -y install %s\" % pkg)\n",
    "\n",
    "from ipaddress import ip_address, IPv4Address, IPv4Network\n",
    "for net in net_conf:\n",
    "    for n in net['nodes']:\n",
    "        if_name = n['name'] + '-' + net['name'] + '-p1'\n",
    "        iface = slice.get_interface(if_name)\n",
    "        iface.ip_link_up()\n",
    "        if n['addr']:\n",
    "            iface.ip_addr_add(addr=n['addr'], subnet=IPv4Network(net['subnet']))\n",
    "        else:\n",
    "            iface.get_node().execute(\"sudo ip addr flush dev %s\"  % iface.get_device_name())\n",
    "\n",
    "hosts_txt = [ \"%s\\t%s\" % ( n['addr'], n['name'] ) for net in net_conf  for n in net['nodes'] if type(n) is dict and n['addr']]\n",
    "\n",
    "for n in slice.get_nodes():\n",
    "    for h in hosts_txt:\n",
    "        n.execute(\"echo %s | sudo tee -a /etc/hosts\" % h)\n",
    "\n",
    "for n in slice.get_nodes():\n",
    "    n.execute(\"sudo sysctl -w net.ipv4.ip_forward=1\")\n",
    "\n",
    "for rt in route_conf:\n",
    "    for n in rt['nodes']:\n",
    "        slice.get_node(name=n).ip_route_add(subnet=IPv4Network(rt['addr']), gateway=rt['gw'])"
   ]
  },
  {
   "cell_type": "code",
   "execution_count": null,
   "id": "dbf1a441-d8eb-4026-abf1-d53f36bce676",
   "metadata": {},
   "outputs": [],
   "source": []
  },
  {
   "cell_type": "code",
   "execution_count": null,
   "id": "5ef0546d-c4b0-439f-a105-51f9b99cf538",
   "metadata": {},
   "outputs": [],
   "source": [
    "print(\"Place scripts in environments.\")\n",
    "nodes = slice.get_nodes()\n",
    "for node in nodes:\n",
    "    try:\n",
    "        #Python scripts for operating\n",
    "        result = node.upload_file('demoScripts/consumer.py','consumer.py')\n",
    "        result = node.upload_file('demoScripts/producer.py','producer.py')\n",
    "        result = node.upload_file('demoScripts/datowner.py','datowner.py')\n",
    "        result = node.upload_file('demoScripts/ndnroute.py','ndnroute.py')\n",
    "    except Exception as e:\n",
    "        print(\"Failed on node %s for the following reason:\"%(node.get_name()))\n",
    "        print(e.message)\n"
   ]
  },
  {
   "cell_type": "markdown",
   "id": "e4db4505-8753-47a3-ae2b-98ac305a1e99",
   "metadata": {},
   "source": [
    "Step 2: Instructions to perform demo"
   ]
  },
  {
   "cell_type": "code",
   "execution_count": null,
   "id": "528e197c-db11-4836-b915-7a47257488df",
   "metadata": {},
   "outputs": [],
   "source": []
  }
 ],
 "metadata": {
  "kernelspec": {
   "display_name": "Python 3 (ipykernel)",
   "language": "python",
   "name": "python3"
  },
  "language_info": {
   "codemirror_mode": {
    "name": "ipython",
    "version": 3
   },
   "file_extension": ".py",
   "mimetype": "text/x-python",
   "name": "python",
   "nbconvert_exporter": "python",
   "pygments_lexer": "ipython3",
   "version": "3.11.8"
  }
 },
 "nbformat": 4,
 "nbformat_minor": 5
}
