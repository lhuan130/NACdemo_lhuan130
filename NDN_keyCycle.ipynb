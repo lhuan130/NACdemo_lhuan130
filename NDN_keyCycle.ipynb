{
 "cells": [
  {
   "cell_type": "markdown",
   "id": "72e3d380-a081-4df8-9486-1eca036c6dfe",
   "metadata": {},
   "source": [
    "## NDN Content Revoking through Key Cycling\n",
    "\n",
    "Larry Huang (lhuan130@asu.edu)\n",
    "\n",
    "This section of the project includes my attempts at producing a working NDN-DPDK slice.\n",
    "Non-functional. If you can get NDN-DPDK to properly install by fixing the scripts below, you have surpassed my willingness to fight build issues.\n",
    "\n",
    "Produced on the Summer 2024 version of FABRIC's JuPyter hub. If you have not yet configured your FABRIC environment, return to the start_here notebook before starting this."
   ]
  },
  {
   "cell_type": "markdown",
   "id": "dbe1066d-84fc-4f3d-a238-c3153c4266c4",
   "metadata": {},
   "source": [
    "### Deallocate Slice\n",
    "\n",
    "This content is placed at the top to avoid mistakes from people running through the notebook using Shift-Enter.\n",
    "Note that `fablib` is not imported unless the first code block after this section is run. "
   ]
  },
  {
   "cell_type": "code",
   "execution_count": null,
   "id": "513306b1-3cf0-4e79-affd-e450f5e69d35",
   "metadata": {},
   "outputs": [],
   "source": [
    "slice_name=\"NDNkeyCycle-\" + fablib.get_bastion_username()\n",
    "slice = fablib.get_slice(name=slice_name)\n",
    "fablib.delete_slice(slice_name)"
   ]
  },
  {
   "cell_type": "markdown",
   "id": "ba1cf451-c0b3-4f82-a0d0-21e47ccaf126",
   "metadata": {},
   "source": [
    "### Initial Setup (from fabric-ndn)\n",
    "\n",
    "The bastion key and slice key must be in your fabric_config JuPyter directory in order to interact with the FabLib library on FABRIC.\n",
    "\n",
    "Try to avoid skipping steps to prevent missing variables/imports."
   ]
  },
  {
   "cell_type": "code",
   "execution_count": null,
   "id": "30789a5f-aefa-475e-aefa-1cc95ad338d3",
   "metadata": {},
   "outputs": [],
   "source": [
    "from fabrictestbed_extensions.fablib.fablib import FablibManager as fablib_manager\n",
    "fablib = fablib_manager()\n",
    "conf = fablib.show_config()"
   ]
  },
  {
   "cell_type": "markdown",
   "id": "0657f521-e12f-4420-a8a7-1904110a253c",
   "metadata": {},
   "source": [
    "### Topology Configuration (run to load variables)"
   ]
  },
  {
   "cell_type": "code",
   "execution_count": null,
   "id": "3c99a534-f13a-4672-b73b-da8411680696",
   "metadata": {},
   "outputs": [],
   "source": [
    "slice_name=\"NDNkeyCycle-\" + fablib.get_bastion_username()\n",
    "\n",
    "#at current the topology is intended to allocate on a single site\n",
    "#it may be more prudent to allocate across multiple sites as more nodes are added due to the large size requirements\n",
    "\n",
    "#configuring nodes for topology in *_conf variables\n",
    "#Large ram and disk values are a result of NDN-DPDK's space reqs\n",
    "node_conf = [\n",
    "    {\"name\": \"attacker\", \"cores\": 2, \"ram\": 72, \"disk\": 60, \"image\": 'default_ubuntu_20', 'packages': ['net-tools', 'iperf3', 'moreutils']},\n",
    "    {\"name\": \"consumer\", \"cores\": 2, \"ram\": 72, \"disk\": 60, \"image\": 'default_ubuntu_20', 'packages': ['net-tools', 'iperf3', 'moreutils']},\n",
    "    {\"name\": \"producer\", \"cores\": 2, \"ram\": 72, \"disk\": 60, \"image\": 'default_ubuntu_20', 'packages': ['net-tools', 'iperf3', 'moreutils']},\n",
    "    {\"name\": \"router1\",  \"cores\": 2, \"ram\": 72, \"disk\": 60, \"image\": 'default_ubuntu_20', 'packages': ['net-tools', 'iperf3', 'moreutils']}\n",
    "]\n",
    "\n",
    "net_conf = [\n",
    "    {\"name\": \"net_clients\", \"subnet\": \"10.10.1.0/24\", \"nodes\": [\n",
    "        {\"name\": \"consumer\", \"addr\": \"10.10.1.30\"},\n",
    "        {\"name\": \"attacker\", \"addr\": \"10.10.1.40\"},\n",
    "        {\"name\": \"router1\",  \"addr\": \"10.10.1.10\"}\n",
    "    ]},\n",
    "    {\"name\": \"net_content\", \"subnet\": \"10.10.2.0/24\", \"nodes\": [\n",
    "        {\"name\": \"producer\",  \"addr\": \"10.10.2.50\"},\n",
    "        {\"name\": \"router1\",   \"addr\": \"10.10.2.10\"}\n",
    "    ]}\n",
    "]\n",
    "\n",
    "route_conf = [\n",
    "    {\"addr\": \"10.10.1.0/24\", \"gw\": \"10.10.1.10\", \"nodes\": [\"consumer\", \"attacker\"]},\n",
    "    {\"addr\": \"10.10.2.0/24\", \"gw\": \"10.10.2.10\", \"nodes\": [\"producer\"]}\n",
    "]\n",
    "\n",
    "#calculate config values for use in determining a valid site for allocation\n",
    "exp_conf = {'cores': sum([ n['cores'] for n in node_conf]), 'nic': sum([len(n['nodes']) for n in net_conf]), 'ram': sum([ n['ram'] for n in node_conf]) }\n",
    "\n",
    "print(\"Configuration setup loaded.\")"
   ]
  },
  {
   "cell_type": "markdown",
   "id": "e0db5489-7dd5-496c-94e0-314ecd8fd0fe",
   "metadata": {},
   "source": [
    "### Slice existence check and allocation"
   ]
  },
  {
   "cell_type": "code",
   "execution_count": null,
   "id": "e5efc57a-75fa-421e-828c-78514790953f",
   "metadata": {},
   "outputs": [],
   "source": [
    "slice_name=\"NDNkeyCycle-\" + fablib.get_bastion_username()\n",
    "\n",
    "try:\n",
    "    slice = fablib.get_slice(name=slice_name)\n",
    "    print(\"You already have a slice by this name!\")\n",
    "    print(\"If you previously reserved resources, skip to the 'log in to resources' section.\")\n",
    "except:\n",
    "    print(\"You don't have a slice named %s yet.\" % slice_name)\n",
    "    print(\"Continue to the next step to make one.\")\n",
    "    slice = fablib.new_slice(name=slice_name)"
   ]
  },
  {
   "cell_type": "code",
   "execution_count": null,
   "id": "41ea15e8-74b3-4fdd-bfe8-1f00d9320ef2",
   "metadata": {},
   "outputs": [],
   "source": [
    "## Run if Slice is not allocated\n",
    "\n",
    "while True:\n",
    "    site_name = fablib.get_random_site()\n",
    "    #check if randomly chosen site has the resources to properly allocate\n",
    "    if ( (fablib.resources.get_core_available(site_name) > 1.2*exp_conf['cores']) and\n",
    "        (fablib.resources.get_ram_available(site_name) > 1.2*exp_conf['ram']) and\n",
    "        (fablib.resources.get_component_available(site_name, 'SharedNIC-ConnectX-6') > 1.2**exp_conf['nic']) ):\n",
    "        break\n",
    "\n",
    "for n in node_conf:\n",
    "    slice.add_node(name=n['name'], site=site_name, \n",
    "                   cores=n['cores'], \n",
    "                   ram=n['ram'], \n",
    "                   disk=n['disk'], \n",
    "                   image=n['image'])\n",
    "for n in net_conf:\n",
    "    ifaces = [slice.get_node(node[\"name\"]).add_component(model=\"NIC_Basic\", \n",
    "                                                 name=n[\"name\"]).get_interfaces()[0] for node in n['nodes'] ]\n",
    "    slice.add_l2network(name=n[\"name\"], type='L2Bridge', interfaces=ifaces)\n",
    "\n",
    "fablib.show_site(site_name)"
   ]
  },
  {
   "cell_type": "code",
   "execution_count": null,
   "id": "9ab05814-2398-4efe-b8b4-3ecb29ec15e9",
   "metadata": {},
   "outputs": [],
   "source": [
    "#wait for visible output from previous\n",
    "#it may be helpful to spot-check the resources availble on the other node\n",
    "slice.submit()\n",
    "\n",
    "#wait for allocation success\n",
    "slice.get_state()\n",
    "slice.wait_ssh(progress=True)\n",
    "\n",
    "#NOTE: examine output of this and the above block carefully to ensure the slice has been properly built "
   ]
  },
  {
   "cell_type": "markdown",
   "id": "ecb950a7-b6b5-4270-b02f-e33cfed197e5",
   "metadata": {},
   "source": [
    "### Configure resources within nodes\n",
    "\n",
    "Step 1: Update Nodes and Install Useful Packages"
   ]
  },
  {
   "cell_type": "code",
   "execution_count": null,
   "id": "589393b0-9545-455e-a1cb-0986d21dca1b",
   "metadata": {},
   "outputs": [],
   "source": [
    "for n in node_conf:\n",
    "    if len(n['packages']):\n",
    "        node = slice.get_node(n['name'])\n",
    "        pkg = \" \".join(n['packages'])\n",
    "        node.execute_thread(\"sudo apt update; sudo apt -y install %s\" % pkg)\n",
    "\n",
    "from ipaddress import ip_address, IPv4Address, IPv4Network\n",
    "for net in net_conf:\n",
    "    for n in net['nodes']:\n",
    "        if_name = n['name'] + '-' + net['name'] + '-p1'\n",
    "        iface = slice.get_interface(if_name)\n",
    "        iface.ip_link_up()\n",
    "        if n['addr']:\n",
    "            iface.ip_addr_add(addr=n['addr'], subnet=IPv4Network(net['subnet']))\n",
    "        else:\n",
    "            iface.get_node().execute(\"sudo ip addr flush dev %s\"  % iface.get_device_name())\n",
    "\n",
    "hosts_txt = [ \"%s\\t%s\" % ( n['addr'], n['name'] ) for net in net_conf  for n in net['nodes'] if type(n) is dict and n['addr']]\n",
    "\n",
    "for n in slice.get_nodes():\n",
    "    for h in hosts_txt:\n",
    "        n.execute(\"echo %s | sudo tee -a /etc/hosts\" % h)\n",
    "\n",
    "for n in slice.get_nodes():\n",
    "    n.execute(\"sudo sysctl -w net.ipv4.ip_forward=1\")\n",
    "\n",
    "for rt in route_conf:\n",
    "    for n in rt['nodes']:\n",
    "        slice.get_node(name=n).ip_route_add(subnet=IPv4Network(rt['addr']), gateway=rt['gw'])"
   ]
  },
  {
   "cell_type": "code",
   "execution_count": null,
   "id": "6699e71a-e7ed-4541-899b-95d7db4451b4",
   "metadata": {},
   "outputs": [],
   "source": [
    "#If you want to perform the next steps manually, this will be useful\n",
    "\n",
    "for node in slice.get_nodes():\n",
    "    print(node.get_name())\n",
    "    print(node.get_ssh_command())"
   ]
  },
  {
   "cell_type": "markdown",
   "id": "46d84912-e499-4972-953f-de9de2f3274d",
   "metadata": {},
   "source": [
    "#### NDN Installation and Node Environment Configuration\n",
    "\n",
    "Step 2: Install NDN-DPDK (taken from FABRIC-NAC)\n",
    "\n",
    "Included in first code block below. Or load the following script into each node and run.\n",
    "\n",
    "```\n",
    "#!/bin/bash\n",
    "sudo apt update\n",
    "wget http://www.mellanox.com/downloads/ofed/MLNX_OFED-5.8-1.0.1.1/MLNX_OFED_SRC-debian-5.8-1.0.1.1.tgz\n",
    "tar zxvf MLNX_OFED_SRC-debian-5.8-1.0.1.1.tgz\n",
    "sudo MLNX_OFED_SRC-5.8-1.0.1.1/./install.pl\n",
    "git clone https://github.com/usnistgov/ndn-dpdk\n",
    "git clone https://github.com/DPDK/dpdk\n",
    "sudo apt install --no-install-recommends -y ca-certificates curl jq lsb-release sudo nodejs\n",
    "chmod a+x /home/ubuntu/ndn-dpdk/docs/ndndpdk-depends.sh\n",
    "echo | /home/ubuntu/ndn-dpdk/docs/./ndndpdk-depends.sh\n",
    "sudo npm install -g pnpm\n",
    "cd /home/ubuntu/ndn-dpdk/core && pnpm install\n",
    "cd /home/ubuntu/ndn-dpdk && NDNDPDK_MK_RELEASE=1 make && sudo make install\n",
    "sudo python3 /home/ubuntu/dpdk/usertools/dpdk-hugepages.py -p 1G --setup 64G\n",
    "sudo ndndpdk-ctrl systemd start\n",
    "ndndpdk-ctrl -v\n",
    "```\n",
    "\n",
    "Please note: an absolutely HUGE amount of text will be produced below this block, and it may take anywhere from ten minutes to two hours to finish running. Please be patient with this section.\n",
    "\n",
    "NOTE: current problem points include the following:\n",
    "- Output from these blocks will print excessively below this block. If you wish to view the output of individual nodes, the module below will actually save output from each attempt into individual txt files in the JuPyter directory for review.\n",
    "- Trying to install npm runs into issues with recommendation blocks where installing it without some recommended items causes it to break when used subsequently.\n",
    "- Subsequently, trying to use npm to install pnpm creates issues where FABRIC nodes are not allowed to reach out to appropriate download targets. pnpm is required to build and install NDN-DPDK.\n",
    "\n",
    "Things that are not actually problems:\n",
    "- if you have already run the above script once and it has failed, you will receive errors when trying to clone dpdk and ndn-dpdk again. This is expected and will not block progress."
   ]
  },
  {
   "cell_type": "code",
   "execution_count": null,
   "id": "4bc9b0cc-e15e-4a68-a89f-82d6b2258bcb",
   "metadata": {},
   "outputs": [],
   "source": [
    "#Installing NDN-DPDK based upon FABRIC-NAC setup\n",
    "\n",
    "from fabrictestbed_extensions.fablib.fablib import fablib\n",
    "import traceback\n",
    "import datetime\n",
    "import threading\n",
    "import json\n",
    "\n",
    "def NDN_install(name: str):\n",
    "    commands = [\n",
    "        f\"echo \\\"PS1=\\'{name}:\\\\w\\\\$ \\'\\\" >> .bashrc\",\n",
    "        \"sudo apt update\",\n",
    "        \"sudo apt install -y npm --no-install-recommends --no-install-suggests\",\n",
    "        \"wget http://www.mellanox.com/downloads/ofed/MLNX_OFED-5.8-1.0.1.1/MLNX_OFED_SRC-debian-5.8-1.0.1.1.tgz\",\n",
    "        \"tar zxvf MLNX_OFED_SRC-debian-5.8-1.0.1.1.tgz\",\n",
    "        \"sudo MLNX_OFED_SRC-5.8-1.0.1.1/./install.pl\",\n",
    "        \"git clone https://github.com/usnistgov/ndn-dpdk\",\n",
    "        \"git clone https://github.com/DPDK/dpdk\",\n",
    "        \"sudo apt install --no-install-recommends -y ca-certificates curl jq lsb-release sudo nodejs\",\n",
    "        \"chmod a+x ndn-dpdk/docs/ndndpdk-depends.sh\",\n",
    "        \"echo | ndn-dpdk/docs/./ndndpdk-depends.sh\",\n",
    "        \"sudo npm install -g pnpm\",\n",
    "        \"cd ndn-dpdk/core && pnpm install\",\n",
    "        \"cd ndn-dpdk && NDNDPDK_MK_RELEASE=1 make && sudo make install\",\n",
    "        \"sudo python3 dpdk/usertools/dpdk-hugepages.py -p 1G --setup 64G\",\n",
    "        \"sudo ndndpdk-ctrl systemd start\",\n",
    "        \"ndndpdk-ctrl -v\"\n",
    "    ]\n",
    "    node = slice.get_node(name=name)\n",
    "    console_data = []\n",
    "    try:\n",
    "        #if you wish to see all output, use stdout instead of consoleout\n",
    "        consoleout, stderr = node.execute(\"ndndpdk-ctrl -v\")\n",
    "        if consoleout.startswith(\"ndndpdk-ctrl version\"):\n",
    "            print(f\"Already installed on {name}\")\n",
    "            return\n",
    "        console_data.append(consoleout)\n",
    "        console_data.append('\\n')\n",
    "        for command in commands:\n",
    "            print(f\"Executing {command} on {name}\")\n",
    "            consoleout, stderr = node.execute(command)\n",
    "            console_data.append(consoleout)\n",
    "        if consoleout.startswith(\"ndndpdk-ctrl version\"):\n",
    "            print(f\"Success on {name} at {datetime.datetime.now()}\")\n",
    "        else:\n",
    "            print(f\"Failure on {name} at {datetime.datetime.now()}\")\n",
    "    except Exception:\n",
    "        print(f\"Failed: {name} at {datetime.datetime.now()}\")\n",
    "    finally:\n",
    "        write_targ = open(str(int(datetime.datetime.timestamp(datetime.datetime.now())))+\"node_\"+name+\"NDNsetup.txt\", 'w')\n",
    "        write_targ.writelines(console_data)\n",
    "        write_targ.close()\n",
    "\n",
    "print(f\"Starting: {datetime.datetime.now()}\")\n",
    "for node in slice.get_nodes():\n",
    "    threading.Thread(target=NDN_install, args=(node.get_name(),)).start()"
   ]
  },
  {
   "cell_type": "markdown",
   "id": "bbce9a1f-b269-4185-b6e4-f441d6900791",
   "metadata": {},
   "source": [
    "### Node Environment Setup (used for specifics of NDN exchange demo)\n",
    "Step 3: set up file systems for the NDN nodes.\n",
    "Step 4: install pwntools on the nodes to enable interactions with NDN-DPDK using the scripts modified from FABRIC_NAC.\n"
   ]
  },
  {
   "cell_type": "code",
   "execution_count": null,
   "id": "88a45c72-d14d-44f4-9d0b-3d5bea89b1fc",
   "metadata": {},
   "outputs": [],
   "source": [
    "def build_user(node):\n",
    "    print(\"Adding client environment for NDN node \" + node.get_name())\n",
    "    try:\n",
    "        #partial NAC scripts sourced from FABRIC NAC\n",
    "        result = node.upload_file('oldScripts/consumer.py','oldScripts/consumer.py')\n",
    "        result = node.upload_file('oldScripts/producer.py','oldScripts/producer.py')\n",
    "\n",
    "nodes = slice.get_nodes()\n",
    "try:\n",
    "    for node in nodes:\n",
    "        build_user(node)\n",
    "except Exception as e:\n",
    "    print(f\"Failed: {name} with {e.message}\")"
   ]
  },
  {
   "cell_type": "markdown",
   "id": "bca0dcff-de9a-49cf-ae45-b473b37d4a96",
   "metadata": {},
   "source": [
    "### (Incomplete) Procedure to demonstrate full NAC using NDN-DPDK"
   ]
  },
  {
   "cell_type": "markdown",
   "id": "d517a971-3162-42ef-a00e-685830603b38",
   "metadata": {},
   "source": [
    "### Extend Slice Lifetime by 3 Days"
   ]
  },
  {
   "cell_type": "code",
   "execution_count": null,
   "id": "80595402-bb8f-4517-835b-efc2e0670fee",
   "metadata": {},
   "outputs": [],
   "source": [
    "from datetime import datetime\n",
    "from datetime import timezone\n",
    "from datetime import timedelta\n",
    "\n",
    "# Set end date to 3 days from now\n",
    "end_date = (datetime.now(timezone.utc) + timedelta(days=4)).strftime(\"%Y-%m-%d %H:%M:%S %z\")\n",
    "slice.renew(end_date)"
   ]
  },
  {
   "cell_type": "markdown",
   "id": "bc3e676e-b448-4439-9dbf-e6efc45939ca",
   "metadata": {},
   "source": [
    "### Generate Node Access Details Below"
   ]
  },
  {
   "cell_type": "code",
   "execution_count": null,
   "id": "fb8e1c21-fe40-4524-88c0-e3e279e735bd",
   "metadata": {},
   "outputs": [],
   "source": [
    "#Display access to nodes through ssh\n",
    "for node in slice.get_nodes():\n",
    "    print(node.get_name())\n",
    "    print(node.get_ssh_command())"
   ]
  },
  {
   "cell_type": "code",
   "execution_count": null,
   "id": "21eae61e-bdec-45f7-b861-8e83ac71b137",
   "metadata": {},
   "outputs": [],
   "source": [
    "#Draw topology for visibility\n",
    "l2_nets = [(n.get_name(), {'color': 'lavender'}) for n in slice.get_l2networks() ]\n",
    "l3_nets = [(n.get_name(), {'color': 'pink'}) for n in slice.get_l3networks() ]\n",
    "hosts   =   [(n.get_name(), {'color': 'lightblue'}) for n in slice.get_nodes()]\n",
    "nodes = l2_nets + l3_nets + hosts\n",
    "ifaces = [iface.toDict() for iface in slice.get_interfaces()]\n",
    "edges = [(iface['network'], iface['node'], \n",
    "          {'label': iface['physical_dev'] + '\\n' + iface['ip_addr'] + '\\n' + iface['mac']}) for iface in ifaces]\n",
    "import networkx as nx\n",
    "import matplotlib.pyplot as plt\n",
    "plt.figure(figsize=(len(nodes) + 5, len(nodes) + 1))\n",
    "G = nx.Graph()\n",
    "G.add_nodes_from(nodes)\n",
    "G.add_edges_from(edges)\n",
    "pos = nx.spring_layout(G)\n",
    "nx.draw(G, pos, node_shape='s',  \n",
    "        node_color=[n[1]['color'] for n in nodes], \n",
    "        node_size=[len(n[0])*400 for n in nodes],  \n",
    "        with_labels=True);\n",
    "nx.draw_networkx_edge_labels(G,pos,\n",
    "                             edge_labels=nx.get_edge_attributes(G,'label'),\n",
    "                             font_color='gray', font_size=8, rotate=False);"
   ]
  }
 ],
 "metadata": {
  "kernelspec": {
   "display_name": "Python 3 (ipykernel)",
   "language": "python",
   "name": "python3"
  },
  "language_info": {
   "codemirror_mode": {
    "name": "ipython",
    "version": 3
   },
   "file_extension": ".py",
   "mimetype": "text/x-python",
   "name": "python",
   "nbconvert_exporter": "python",
   "pygments_lexer": "ipython3",
   "version": "3.11.8"
  }
 },
 "nbformat": 4,
 "nbformat_minor": 5
}
